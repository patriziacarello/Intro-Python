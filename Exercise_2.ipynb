{
  "nbformat": 4,
  "nbformat_minor": 0,
  "metadata": {
    "kernelspec": {
      "display_name": "Python 3",
      "language": "python",
      "name": "python3"
    },
    "language_info": {
      "codemirror_mode": {
        "name": "ipython",
        "version": 3
      },
      "file_extension": ".py",
      "mimetype": "text/x-python",
      "name": "python",
      "nbconvert_exporter": "python",
      "pygments_lexer": "ipython3",
      "version": "3.6.5"
    },
    "colab": {
      "name": "Exercise_2.ipynb",
      "provenance": [],
      "include_colab_link": true
    }
  },
  "cells": [
    {
      "cell_type": "markdown",
      "metadata": {
        "id": "view-in-github",
        "colab_type": "text"
      },
      "source": [
        "<a href=\"https://colab.research.google.com/github/patriziacarello/Intro-Python/blob/main/Exercise_2.ipynb\" target=\"_parent\"><img src=\"https://colab.research.google.com/assets/colab-badge.svg\" alt=\"Open In Colab\"/></a>"
      ]
    },
    {
      "cell_type": "markdown",
      "metadata": {
        "id": "cWwlaV5cHey3"
      },
      "source": [
        "### Variables\n",
        "A name that is used to denote something or a value is called a variable. In python, variables can be declared and values can be assigned to it as follows,"
      ]
    },
    {
      "cell_type": "code",
      "metadata": {
        "id": "X2tuLpgoHey4"
      },
      "source": [
        "\n",
        "x = 2\n",
        "y = 5\n",
        "xy = 'Hello'"
      ],
      "execution_count": null,
      "outputs": []
    },
    {
      "cell_type": "code",
      "metadata": {
        "id": "NYILo2YiHey5",
        "outputId": "49740503-9fe9-4da3-f274-a5a5195c8a6a"
      },
      "source": [
        "print(x+y, xy)"
      ],
      "execution_count": null,
      "outputs": [
        {
          "output_type": "stream",
          "text": [
            "7 Hello\n"
          ],
          "name": "stdout"
        }
      ]
    },
    {
      "cell_type": "code",
      "metadata": {
        "id": "BI4anghWHey6",
        "outputId": "00872830-9dbf-401e-db78-5d7399ac54fd"
      },
      "source": [
        "# Multiple variables can be assigned with the same value\n",
        "\n",
        "x = y = 1\n",
        "\n",
        "print(x,y)"
      ],
      "execution_count": null,
      "outputs": [
        {
          "output_type": "stream",
          "text": [
            "1 1\n"
          ],
          "name": "stdout"
        }
      ]
    },
    {
      "cell_type": "markdown",
      "metadata": {
        "id": "sGG8ArhZHey6"
      },
      "source": [
        "### Operators\n",
        "\n",
        "#### Arithmetic Operators\n",
        "\n",
        "| Symbol | Task Performed |\n",
        "|----|---|\n",
        "| +  | Addition |\n",
        "| -  | Subtraction |\n",
        "| /  | division |\n",
        "| %  | mod |\n",
        "| *  | multiplication |\n",
        "| //  | floor division |\n",
        "| **  | to the power of |"
      ]
    },
    {
      "cell_type": "code",
      "metadata": {
        "id": "6-wbCWEJHey7",
        "outputId": "fae98893-c7bb-41c3-9242-5f8aaac22bab"
      },
      "source": [
        "1+2"
      ],
      "execution_count": null,
      "outputs": [
        {
          "output_type": "execute_result",
          "data": {
            "text/plain": [
              "3"
            ]
          },
          "metadata": {
            "tags": []
          },
          "execution_count": 7
        }
      ]
    },
    {
      "cell_type": "code",
      "metadata": {
        "id": "ThLzLxExHey7",
        "outputId": "a45e5053-14d0-48fa-a8ef-dc3c49eee699"
      },
      "source": [
        "2-1"
      ],
      "execution_count": null,
      "outputs": [
        {
          "output_type": "execute_result",
          "data": {
            "text/plain": [
              "1"
            ]
          },
          "metadata": {
            "tags": []
          },
          "execution_count": 8
        }
      ]
    },
    {
      "cell_type": "code",
      "metadata": {
        "id": "IkhCStFYHey7",
        "outputId": "8dcd8e1b-da69-4828-832e-3efe07d73a29"
      },
      "source": [
        "1*2"
      ],
      "execution_count": null,
      "outputs": [
        {
          "output_type": "execute_result",
          "data": {
            "text/plain": [
              "2"
            ]
          },
          "metadata": {
            "tags": []
          },
          "execution_count": 9
        }
      ]
    },
    {
      "cell_type": "code",
      "metadata": {
        "id": "FILL-bHDHey8",
        "outputId": "6a751c86-9d64-4c34-a2a2-3f07fd6fb746"
      },
      "source": [
        "1/2"
      ],
      "execution_count": null,
      "outputs": [
        {
          "output_type": "execute_result",
          "data": {
            "text/plain": [
              "0.5"
            ]
          },
          "metadata": {
            "tags": []
          },
          "execution_count": 10
        }
      ]
    },
    {
      "cell_type": "code",
      "metadata": {
        "id": "EGAkuQ58Hey8",
        "outputId": "2ed45516-46a5-4951-cf54-ca00fec6289d"
      },
      "source": [
        "15%10"
      ],
      "execution_count": null,
      "outputs": [
        {
          "output_type": "execute_result",
          "data": {
            "text/plain": [
              "5"
            ]
          },
          "metadata": {
            "tags": []
          },
          "execution_count": 11
        }
      ]
    },
    {
      "cell_type": "code",
      "metadata": {
        "id": "xpO9xdgyHey8",
        "outputId": "49f12176-3286-4be9-a38a-8d530b034665"
      },
      "source": [
        "#Floor division is nothing but converting the result so obtained to the nearest integer.\n",
        "2.8//2.0"
      ],
      "execution_count": null,
      "outputs": [
        {
          "output_type": "execute_result",
          "data": {
            "text/plain": [
              "1.0"
            ]
          },
          "metadata": {
            "tags": []
          },
          "execution_count": 13
        }
      ]
    },
    {
      "cell_type": "markdown",
      "metadata": {
        "id": "N4mnMEp0Hey8"
      },
      "source": [
        "## Relational Operators\n",
        "| Symbol | Task Performed |\n",
        "|----|---|\n",
        "| == | True, if it is equal |\n",
        "| !=  | True, if not equal to |\n",
        "| < | less than |\n",
        "| > | greater than |\n",
        "| <=  | less than or equal to |\n",
        "| >=  | greater than or equal to |"
      ]
    },
    {
      "cell_type": "code",
      "metadata": {
        "id": "JExkowyRHey9"
      },
      "source": [
        "z = 1"
      ],
      "execution_count": null,
      "outputs": []
    },
    {
      "cell_type": "code",
      "metadata": {
        "id": "2Kzl2rv4Hey9",
        "outputId": "878d79f9-240e-4683-e104-9bb5e5898aa1"
      },
      "source": [
        "z == 1"
      ],
      "execution_count": null,
      "outputs": [
        {
          "output_type": "execute_result",
          "data": {
            "text/plain": [
              "True"
            ]
          },
          "metadata": {
            "tags": []
          },
          "execution_count": 15
        }
      ]
    },
    {
      "cell_type": "code",
      "metadata": {
        "id": "7gi06LjlHey9",
        "outputId": "8dee6d4b-6010-4079-f7f7-6c018950ba8e"
      },
      "source": [
        "z > 1"
      ],
      "execution_count": null,
      "outputs": [
        {
          "output_type": "execute_result",
          "data": {
            "text/plain": [
              "False"
            ]
          },
          "metadata": {
            "tags": []
          },
          "execution_count": 16
        }
      ]
    },
    {
      "cell_type": "code",
      "metadata": {
        "id": "qTOszABhHey-",
        "outputId": "e4c1828a-9d60-4c48-9513-d3a67c77e9df",
        "colab": {
          "base_uri": "https://localhost:8080/"
        }
      },
      "source": [
        "print(round(5.6231))\n",
        "print(round(4.55892, 2))"
      ],
      "execution_count": 10,
      "outputs": [
        {
          "output_type": "stream",
          "name": "stdout",
          "text": [
            "6\n",
            "4.56\n"
          ]
        }
      ]
    },
    {
      "cell_type": "code",
      "metadata": {
        "id": "egj5qSNfHey-",
        "outputId": "b7b1d484-01bd-4440-b519-55c53c87f3a9"
      },
      "source": [
        "divmod(9,4)"
      ],
      "execution_count": null,
      "outputs": [
        {
          "output_type": "execute_result",
          "data": {
            "text/plain": [
              "(2, 1)"
            ]
          },
          "metadata": {
            "tags": []
          },
          "execution_count": 29
        }
      ]
    },
    {
      "cell_type": "code",
      "metadata": {
        "id": "S3uYKp0gHey-",
        "outputId": "661b3d02-1323-4d7d-a6d8-41b80407ffec"
      },
      "source": [
        "pow(2,3)"
      ],
      "execution_count": null,
      "outputs": [
        {
          "output_type": "execute_result",
          "data": {
            "text/plain": [
              "8"
            ]
          },
          "metadata": {
            "tags": []
          },
          "execution_count": 30
        }
      ]
    },
    {
      "cell_type": "markdown",
      "metadata": {
        "id": "e0lPv506Hey-"
      },
      "source": [
        "## Print\n",
        "\n",
        "\n",
        "In Python, single, double and triple quotes are used to denote a string. Most use single quotes when declaring a single character. Double quotes when declaring a line and triple quotes when declaring a paragraph/multiple lines."
      ]
    },
    {
      "cell_type": "code",
      "metadata": {
        "id": "awSQ04seHey-",
        "outputId": "d304d871-1b84-4059-f3a6-6ceace7c4af7",
        "colab": {
          "base_uri": "https://localhost:8080/"
        }
      },
      "source": [
        "print('H')"
      ],
      "execution_count": 29,
      "outputs": [
        {
          "output_type": "stream",
          "name": "stdout",
          "text": [
            "H\n"
          ]
        }
      ]
    },
    {
      "cell_type": "code",
      "metadata": {
        "id": "Tpui8PXzHey_",
        "outputId": "e039bac8-73a9-4034-c051-51ecbe3d0c29",
        "colab": {
          "base_uri": "https://localhost:8080/"
        }
      },
      "source": [
        "print(\"Hello World\")"
      ],
      "execution_count": 30,
      "outputs": [
        {
          "output_type": "stream",
          "name": "stdout",
          "text": [
            "Hello World\n"
          ]
        }
      ]
    },
    {
      "cell_type": "code",
      "metadata": {
        "id": "NvTicvWOHey_",
        "outputId": "2fa5d175-cea7-4c3c-a840-11af8edfd1c3",
        "colab": {
          "base_uri": "https://localhost:8080/"
        }
      },
      "source": [
        "print(\"\"\"I am from Essex.\n",
        "I love Python.\"\"\")"
      ],
      "execution_count": 31,
      "outputs": [
        {
          "output_type": "stream",
          "name": "stdout",
          "text": [
            "I am from Essex.\n",
            "I love Python.\n"
          ]
        }
      ]
    },
    {
      "cell_type": "code",
      "metadata": {
        "id": "cG6FKwn0Hey_",
        "outputId": "d27f04b2-b926-4392-9996-70edd68b2004",
        "colab": {
          "base_uri": "https://localhost:8080/"
        }
      },
      "source": [
        "string1 = \"World\"\n",
        "print(\"Hello\", string1)"
      ],
      "execution_count": 16,
      "outputs": [
        {
          "output_type": "stream",
          "name": "stdout",
          "text": [
            "Hello World\n"
          ]
        }
      ]
    },
    {
      "cell_type": "code",
      "metadata": {
        "id": "AEJwrsrLHezA",
        "outputId": "a69f2bab-81cf-4fa3-afbd-4c5b9f66c78a",
        "colab": {
          "base_uri": "https://localhost:8080/"
        }
      },
      "source": [
        "string2 = '!'\n",
        "print(\"Hello\", string1, string2)"
      ],
      "execution_count": 32,
      "outputs": [
        {
          "output_type": "stream",
          "name": "stdout",
          "text": [
            "Hello World !\n"
          ]
        }
      ]
    },
    {
      "cell_type": "code",
      "metadata": {
        "id": "NtLNDD0EHezA",
        "outputId": "55937b15-fd8c-4ad4-ebd4-a83c37eeeff2",
        "colab": {
          "base_uri": "https://localhost:8080/"
        }
      },
      "source": [
        "print(\"Hello\" + string1 + string2)"
      ],
      "execution_count": 18,
      "outputs": [
        {
          "output_type": "stream",
          "name": "stdout",
          "text": [
            "HelloWorld!\n"
          ]
        }
      ]
    },
    {
      "cell_type": "code",
      "metadata": {
        "id": "xL047F7qHezA",
        "outputId": "603bdc3f-56b6-4f7c-ad57-8df139b06356",
        "colab": {
          "base_uri": "https://localhost:8080/"
        }
      },
      "source": [
        "# %s is a kind of placeholder ; % senza la percentuale abbiamo errore, % serve per unire le due stringhe fato the non abbiamo , ne + \n",
        "print(\"Hello %s\" % string1)"
      ],
      "execution_count": 14,
      "outputs": [
        {
          "output_type": "stream",
          "name": "stdout",
          "text": [
            "Hello World\n"
          ]
        }
      ]
    },
    {
      "cell_type": "markdown",
      "source": [
        "mettendo la virgola otteniamo Hello %s World"
      ],
      "metadata": {
        "id": "PUHLEYfE3EDK"
      }
    },
    {
      "cell_type": "code",
      "source": [
        "print(\"Hello %s\" , string1)"
      ],
      "metadata": {
        "id": "30Be0HoI28y7",
        "outputId": "a50d2df1-cede-44fc-99ca-6839165c16ec",
        "colab": {
          "base_uri": "https://localhost:8080/"
        }
      },
      "execution_count": 19,
      "outputs": [
        {
          "output_type": "stream",
          "name": "stdout",
          "text": [
            "Hello %s World\n"
          ]
        }
      ]
    },
    {
      "cell_type": "code",
      "source": [
        "# %d si aspetta un digit senza virgola, %f float, %s string. Stampa sempre 18 ma viene considerata (stringa, float, ecc)"
      ],
      "metadata": {
        "id": "dHq-GYfI3NRp"
      },
      "execution_count": null,
      "outputs": []
    },
    {
      "cell_type": "code",
      "metadata": {
        "id": "jpz-UfI7HezA",
        "outputId": "a4f67cea-e7d7-4ca7-87be-a29fd0869139",
        "colab": {
          "base_uri": "https://localhost:8080/"
        }
      },
      "source": [
        "print(\"Actual Number = %d\" %18)\n",
        "print(\"Float of the number = %f\" %18)"
      ],
      "execution_count": 28,
      "outputs": [
        {
          "output_type": "stream",
          "name": "stdout",
          "text": [
            "Actual Number = 18\n",
            "Float of the number = 18.000000\n"
          ]
        }
      ]
    },
    {
      "cell_type": "code",
      "metadata": {
        "id": "1lU4rsAuHezA",
        "outputId": "26b09fa6-0228-4bd8-e6d6-c377d239708e",
        "colab": {
          "base_uri": "https://localhost:8080/"
        }
      },
      "source": [
        "print(\"Hello %s %s\" %(string1,string2))"
      ],
      "execution_count": 27,
      "outputs": [
        {
          "output_type": "stream",
          "name": "stdout",
          "text": [
            "Hello World !\n"
          ]
        }
      ]
    },
    {
      "cell_type": "code",
      "metadata": {
        "id": "0slTpDZtHezB"
      },
      "source": [
        ""
      ],
      "execution_count": null,
      "outputs": []
    }
  ]
}